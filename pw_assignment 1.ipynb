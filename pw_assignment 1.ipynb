{
 "cells": [
  {
   "cell_type": "code",
   "execution_count": 1,
   "id": "c899e91b-4bd8-4c5b-b389-2fa0fac341f3",
   "metadata": {},
   "outputs": [
    {
     "name": "stdout",
     "output_type": "stream",
     "text": [
      "['happy', [1, 2, 3, 4], 12.3, (1, 2, 3)]\n"
     ]
    }
   ],
   "source": [
    "#1.\n",
    "v=['happy',[1,2,3,4],12.3,(1,2,3)]\n",
    "print(v)\n"
   ]
  },
  {
   "cell_type": "code",
   "execution_count": 6,
   "id": "33e937e1-f01f-4528-86a8-8a41e079ccc5",
   "metadata": {},
   "outputs": [
    {
     "name": "stdout",
     "output_type": "stream",
     "text": [
      "<class 'str'>\n",
      "<class 'str'>\n",
      "<class 'list'>\n",
      "<class 'float'>\n"
     ]
    }
   ],
   "source": [
    "#2.\n",
    "var1 = ' '\n",
    "var2 = '[ DS , ML , Python]'\n",
    "var3 = [ '‘DS’' ,'ML', 'Python' ]\n",
    "var4 = 1.\n",
    "print(type(var1))\n",
    "print(type(var2))\n",
    "print(type(var3))\n",
    "print(type(var4))"
   ]
  },
  {
   "cell_type": "code",
   "execution_count": 13,
   "id": "dd10941c-11b2-4e45-8247-ec2b365d4e7d",
   "metadata": {},
   "outputs": [
    {
     "name": "stdout",
     "output_type": "stream",
     "text": [
      "0.16666666666666666\n",
      "2\n",
      "1\n",
      "16\n"
     ]
    },
    {
     "data": {
      "text/plain": [
       "(None,)"
      ]
     },
     "execution_count": 13,
     "metadata": {},
     "output_type": "execute_result"
    }
   ],
   "source": [
    "#3.\n",
    "a=2/12\n",
    "print(a),#used for the divide\n",
    "b=2%4\n",
    "print(b),#used for the quiotent\n",
    "c=2//2,#used for the floor divion if note completely divides then it gives the 0\n",
    "print(c)\n",
    "d=2**4\n",
    "print(d),#used for the power"
   ]
  },
  {
   "cell_type": "code",
   "execution_count": 15,
   "id": "24da7ae2-3608-4dd9-ad86-cc1e5879bd89",
   "metadata": {},
   "outputs": [
    {
     "name": "stdout",
     "output_type": "stream",
     "text": [
      "1\n",
      "<class 'int'>\n",
      "2.3\n",
      "<class 'float'>\n",
      "[45, 25]\n",
      "<class 'list'>\n",
      "aks\n",
      "<class 'str'>\n",
      "(1, 2, 3)\n",
      "<class 'tuple'>\n",
      "{1, 2, 31111111111}\n",
      "<class 'set'>\n",
      "{'name': 'sharma'}\n",
      "<class 'dict'>\n"
     ]
    }
   ],
   "source": [
    "#4.\n",
    "a=[1,2.3,[45,25],'aks',(1,2,3),{1,2,31111111111},{'name':'sharma'}]\n",
    "for i in a:\n",
    "    print(i)\n",
    "    print(type(i))"
   ]
  },
  {
   "cell_type": "code",
   "execution_count": 1,
   "id": "ef8aa777-e9d1-4168-820c-e97ec6eb22bd",
   "metadata": {},
   "outputs": [
    {
     "name": "stdin",
     "output_type": "stream",
     "text": [
      "Enter The First Number 5\n",
      "Enter The Second Number 2\n"
     ]
    },
    {
     "name": "stdout",
     "output_type": "stream",
     "text": [
      "yes the given number is completely divisible 1 times\n"
     ]
    }
   ],
   "source": [
    "#5.\n",
    "a=int(input(\"Enter The First Number\"))\n",
    "b=int(input(\"Enter The Second Number\"))\n",
    "counter=1\n",
    "while a%b==0:\n",
    "    a=a//b\n",
    "    counter+=1\n",
    "if(counter>0):\n",
    "    print(\"yes the given number is completely divisible\",counter,\"times\")\n",
    "else:\n",
    "    print(\"no the number is note completely divisible\")"
   ]
  },
  {
   "cell_type": "code",
   "execution_count": 15,
   "id": "5accfac8-4a4f-4d2c-9116-880daf686221",
   "metadata": {},
   "outputs": [
    {
     "name": "stdout",
     "output_type": "stream",
     "text": [
      "yes the number is completely divisible 3\n",
      "yes the number is completely divisible 6\n",
      "yes the number is completely divisible 9\n",
      "yes the number is completely divisible 12\n",
      "yes the number is completely divisible 15\n",
      "yes the number is completely divisible 42\n",
      "yes the number is completely divisible 45\n",
      "yes the number is completely divisible 78\n",
      "yes the number is completely divisible 45\n",
      "yes the number is completely divisible 12\n",
      "the number is note complete divisible\n"
     ]
    }
   ],
   "source": [
    "#6.\n",
    "a=[1,2,3,4,5,6,7,8,9,10,12,15,42,45,78,45,12,4,5,5,5,5,55,7,8]\n",
    "for i in a:\n",
    "    if i%3==0:\n",
    "        print(\"yes the number is completely divisible\",i)\n",
    "else:\n",
    "    print(\"the number is note complete divisible\")\n",
    "    \n",
    "\n"
   ]
  },
  {
   "cell_type": "code",
   "execution_count": null,
   "id": "4f522589-d8bc-46ca-a151-02c44e186321",
   "metadata": {},
   "outputs": [],
   "source": [
    "#7.....\n",
    "#mutable and the immutable datatypes:-\n",
    "#mutable- these are those types of the datatypes which we can perform the change easily\n",
    "#immutable-these are tottaly opposite from the mutable types in these we are esily note able to perform the chnges\n",
    "#examples of mutable-list,set,dictionary\n",
    "#examples of the immutable-string,integer,tuple"
   ]
  },
  {
   "cell_type": "code",
   "execution_count": null,
   "id": "6041b6ef-2b0c-49a5-9c6d-e49f912fc592",
   "metadata": {},
   "outputs": [],
   "source": []
  },
  {
   "cell_type": "markdown",
   "id": "516c8164-e8b6-4b10-b56d-2f4ea943fabd",
   "metadata": {},
   "source": []
  }
 ],
 "metadata": {
  "kernelspec": {
   "display_name": "Python 3 (ipykernel)",
   "language": "python",
   "name": "python3"
  },
  "language_info": {
   "codemirror_mode": {
    "name": "ipython",
    "version": 3
   },
   "file_extension": ".py",
   "mimetype": "text/x-python",
   "name": "python",
   "nbconvert_exporter": "python",
   "pygments_lexer": "ipython3",
   "version": "3.11.7"
  }
 },
 "nbformat": 4,
 "nbformat_minor": 5
}
